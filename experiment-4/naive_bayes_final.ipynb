{
 "cells": [
  {
   "cell_type": "code",
   "execution_count": null,
   "metadata": {},
   "outputs": [],
   "source": [
    "# dataset: https://www.kaggle.com/uciml/pima-indians-diabetes-database\n",
    "# github: https://github.com/pranav567/AI-ML-Lab/tree/master/experiment-4"
   ]
  },
  {
   "cell_type": "code",
   "execution_count": 283,
   "metadata": {},
   "outputs": [
    {
     "name": "stdout",
     "output_type": "stream",
     "text": [
      "     Glucose  BloodPressure  SkinThickness  Insulin   BMI  Age  Outcome\n",
      "0        148             72             35        0  33.6   50        1\n",
      "1         85             66             29        0  26.6   31        0\n",
      "2        183             64              0        0  23.3   32        1\n",
      "3         89             66             23       94  28.1   21        0\n",
      "4        137             40             35      168  43.1   33        1\n",
      "..       ...            ...            ...      ...   ...  ...      ...\n",
      "763      101             76             48      180  32.9   63        0\n",
      "764      122             70             27        0  36.8   27        0\n",
      "765      121             72             23      112  26.2   30        0\n",
      "766      126             60              0        0  30.1   47        1\n",
      "767       93             70             31        0  30.4   23        0\n",
      "\n",
      "[768 rows x 7 columns]\n"
     ]
    }
   ],
   "source": [
    "import pandas as pd\n",
    "import numpy as np\n",
    "\n",
    "diabetes = pd.read_csv('diabetes.csv')\n",
    "diabetes = diabetes.dropna()\n",
    "print(diabetes)"
   ]
  },
  {
   "cell_type": "code",
   "execution_count": 284,
   "metadata": {},
   "outputs": [],
   "source": [
    "from sklearn.model_selection import train_test_split\n",
    "\n",
    "x_train, x_test, y_train, y_test = train_test_split(diabetes,diabetes['Outcome'],test_size=0.2)\n"
   ]
  },
  {
   "cell_type": "code",
   "execution_count": 285,
   "metadata": {},
   "outputs": [
    {
     "name": "stdout",
     "output_type": "stream",
     "text": [
      "0.34039087947882735 0.6596091205211726\n"
     ]
    }
   ],
   "source": [
    "df = x_train.copy()\n",
    "diabetes_yes = df.where(df['Outcome']==1).dropna()\n",
    "diabetes_yes_prob = len(diabetes_yes)/len(df)\n",
    "diabetes_no = df.where(df['Outcome']==0).dropna()\n",
    "diabetes_no_prob = len(diabetes_no)/len(df)\n",
    "\n",
    "print(diabetes_yes_prob,diabetes_no_prob)"
   ]
  },
  {
   "cell_type": "code",
   "execution_count": 286,
   "metadata": {},
   "outputs": [
    {
     "name": "stdout",
     "output_type": "stream",
     "text": [
      "[['Glucose', {0.0: [0.004784688995215311, 0.0049382716049382715], 13.27: [0.0, 0.0], 26.54: [0.0, 0.0], 39.81: [0.0, 0.0], 53.08: [0.0, 0.012345679012345678], 66.35: [0.004784688995215311, 0.06666666666666667], 79.62: [0.03349282296650718, 0.1580246913580247], 92.89: [0.09569377990430622, 0.24444444444444444], 106.16: [0.11961722488038277, 0.18271604938271604], 119.43: [0.16267942583732056, 0.145679012345679], 132.7: [0.12440191387559808, 0.09135802469135802], 145.97: [0.12440191387559808, 0.05185185185185185], 159.24: [0.12440191387559808, 0.01728395061728395], 172.51: [0.11483253588516747, 0.012345679012345678], 185.78: [0.09090909090909091, 0.012345679012345678]}, 13.27], ['BloodPressure', {0.0: [0.04784688995215311, 0.0345679012345679], 7.6: [0.0, 0.0], 15.2: [0.0, 0.0], 22.8: [0.004784688995215311, 0.0], 30.4: [0.0, 0.0], 38.0: [0.004784688995215311, 0.012345679012345678], 45.6: [0.03827751196172249, 0.04938271604938271], 53.2: [0.04784688995215311, 0.1506172839506173], 60.8: [0.17703349282296652, 0.21481481481481482], 68.4: [0.22009569377990432, 0.20246913580246914], 76.0: [0.2535885167464115, 0.18024691358024691], 83.6: [0.1674641148325359, 0.1111111111111111], 91.2: [0.014354066985645933, 0.02962962962962963], 98.8: [0.014354066985645933, 0.009876543209876543], 106.4: [0.009569377990430622, 0.0049382716049382715]}, 7.6], ['SkinThickness', {0.0: [0.32057416267942584, 0.2691358024691358], 6.6: [0.009569377990430622, 0.056790123456790124], 13.2: [0.0430622009569378, 0.12098765432098765], 19.8: [0.12440191387559808, 0.1654320987654321], 26.4: [0.1722488038277512, 0.17530864197530865], 33.0: [0.1722488038277512, 0.11358024691358025], 39.6: [0.11483253588516747, 0.07407407407407407], 46.2: [0.028708133971291867, 0.01728395061728395], 52.8: [0.004784688995215311, 0.0049382716049382715], 59.4: [0.004784688995215311, 0.0024691358024691358], 66.0: [0.0, 0.0], 72.6: [0.0, 0.0], 79.2: [0.0, 0.0], 85.8: [0.0, 0.0], 92.4: [0.004784688995215311, 0.0]}, 6.6], ['Insulin', {0.0: [0.5358851674641149, 0.5432098765432098], 49.6: [0.06220095693779904, 0.17530864197530865], 99.2: [0.11483253588516747, 0.13580246913580246], 148.8: [0.11961722488038277, 0.06666666666666667], 198.4: [0.0430622009569378, 0.024691358024691357], 248.0: [0.03827751196172249, 0.019753086419753086], 297.6: [0.03349282296650718, 0.014814814814814815], 347.2: [0.009569377990430622, 0.0049382716049382715], 396.8: [0.0, 0.0024691358024691358], 446.4: [0.023923444976076555, 0.0049382716049382715], 496.0: [0.009569377990430622, 0.0024691358024691358], 545.6: [0.004784688995215311, 0.0], 595.2: [0.004784688995215311, 0.0], 644.8: [0.0, 0.0024691358024691358], 694.4: [0.0, 0.0024691358024691358]}, 49.6], ['BMI', {0.0: [0.0, 0.014814814814814815], 4.47: [0.0, 0.0], 8.94: [0.0, 0.0], 13.41: [0.0, 0.0], 17.88: [0.0, 0.07407407407407407], 22.35: [0.05741626794258373, 0.20987654320987653], 26.82: [0.23444976076555024, 0.24444444444444444], 31.29: [0.3157894736842105, 0.2271604938271605], 35.76: [0.19138755980861244, 0.1382716049382716], 40.23: [0.12440191387559808, 0.05925925925925926], 44.7: [0.03827751196172249, 0.027160493827160494], 49.17: [0.023923444976076555, 0.0024691358024691358], 53.64: [0.004784688995215311, 0.0024691358024691358], 58.11: [0.004784688995215311, 0.0], 62.58: [0.0, 0.0]}, 4.47], ['Age', {21.0: [0.11004784688995216, 0.3654320987654321], 25.0: [0.15789473684210525, 0.21481481481481482], 29.0: [0.15311004784688995, 0.09382716049382717], 33.0: [0.11004784688995216, 0.05185185185185185], 37.0: [0.09569377990430622, 0.07407407407407407], 41.0: [0.11961722488038277, 0.05925925925925926], 45.0: [0.07655502392344497, 0.04197530864197531], 49.0: [0.0861244019138756, 0.022222222222222223], 53.0: [0.028708133971291867, 0.009876543209876543], 57.0: [0.03349282296650718, 0.024691358024691357], 61.0: [0.009569377990430622, 0.014814814814814815], 65.0: [0.014354066985645933, 0.019753086419753086], 69.0: [0.004784688995215311, 0.0049382716049382715], 73.0: [0.0, 0.0], 77.0: [0.0, 0.0024691358024691358]}, 4.0]]\n"
     ]
    }
   ],
   "source": [
    "columns = df.iloc[:,:6].columns.to_list()\n",
    "classes = 15\n",
    "column_details = []\n",
    "for column_name in columns:\n",
    "    min_val = min(df[column_name].to_list())\n",
    "    max_val = max(df[column_name].to_list())\n",
    "    class_size = round((max_val-min_val)/classes , 2)\n",
    "\n",
    "    low_bounds = list(np.arange(min_val,max_val,class_size))\n",
    "    for i in range(len(low_bounds)):\n",
    "        low_bounds[i] = round(low_bounds[i],2)\n",
    "    x = low_bounds[-1]\n",
    "    low_bounds.append(round(x + class_size,2))\n",
    "    # print(low_bounds)\n",
    "    # mid_class = round((class_size/2) , 2)\n",
    "    dict = {}\n",
    "    # start_mid = mid_class\n",
    "    # df_temp = df[column_name]\n",
    "    # print(df_temp)\n",
    "    # print(len(diabetes_yes) , len(diabetes_no))\n",
    "\n",
    "    for i in range(classes):\n",
    "#         # print(start_mid)\n",
    "        low_bound = low_bounds[i]\n",
    "        upp_bound = low_bounds[i+1]\n",
    "\n",
    "        yes_count = diabetes_yes.where(diabetes_yes[column_name]>=low_bound).dropna()\n",
    "        if i<classes-1:\n",
    "            yes_count = yes_count.where(yes_count[column_name]<upp_bound).dropna()\n",
    "        else:\n",
    "            yes_count = yes_count.where(yes_count[column_name]<=upp_bound).dropna()\n",
    "\n",
    "        no_count = diabetes_no.where(diabetes_no[column_name]>=low_bound).dropna()\n",
    "        if i<classes-1:\n",
    "            no_count = no_count.where(no_count[column_name]<upp_bound).dropna()\n",
    "        else:\n",
    "            no_count = no_count.where(no_count[column_name]<=upp_bound).dropna()\n",
    "\n",
    "\n",
    "#         # print(len(yes_count)/len(diabetes_yes))\n",
    "#         # print(len(yes_count)/len(diabetes_yes) , len(no_count)/len(diabetes_no))\n",
    "\n",
    "        dict[low_bounds[i]] = [len(yes_count)/len(diabetes_yes) , len(no_count)/len(diabetes_no)]\n",
    "#         # print([low_bound,upp_bound])\n",
    "#         start = round((start_mid + class_size),2)\n",
    "\n",
    "    column_details.append([column_name, dict , class_size])\n",
    "print(column_details)"
   ]
  },
  {
   "cell_type": "code",
   "execution_count": 287,
   "metadata": {},
   "outputs": [],
   "source": [
    "def get_outcome(input_data):\n",
    "    probabilities = []\n",
    "\n",
    "    for i in range(6):\n",
    "        value = input_data[i]\n",
    "        prob_dict = column_details[i][1]\n",
    "        class_range = column_details[i][2]\n",
    "\n",
    "        key_list = list(prob_dict.keys())\n",
    "        \n",
    "        for key in key_list:\n",
    "            low = key\n",
    "            up = key+class_range\n",
    "\n",
    "            if key_list[-1] == key:\n",
    "                if value>=low and value <= up:\n",
    "                    probabilities.append(prob_dict[key])\n",
    "                    break\n",
    "            else:\n",
    "                if value>=low and value < up:\n",
    "                    probabilities.append(prob_dict[key])\n",
    "                    break\n",
    "\n",
    "    yes=1\n",
    "    no=1\n",
    "    for i in probabilities:\n",
    "        if i[0] == 0 and i[1]==0:\n",
    "            continue\n",
    "        yes=yes*i[0]\n",
    "        no=no*i[1]\n",
    "    \n",
    "    if yes==1 or no==1:\n",
    "        return 0\n",
    "\n",
    "    product = [yes*diabetes_yes_prob , no*diabetes_no_prob]\n",
    "    total = yes*diabetes_yes_prob + no*diabetes_no_prob\n",
    "\n",
    "    \n",
    "    outcome = [product[0]/total, product[1]/total]\n",
    "\n",
    "    if outcome[0] > outcome[1]:\n",
    "        return 1\n",
    "    else:\n",
    "        return 0"
   ]
  },
  {
   "cell_type": "code",
   "execution_count": 288,
   "metadata": {},
   "outputs": [],
   "source": [
    "test = x_test.iloc[:,:6].copy()\n",
    "test_set = []\n",
    "for i in range(154):\n",
    "    test_set.append(test.iloc[i].to_list())\n",
    "\n",
    "by_nb = []\n",
    "for i in test_set:\n",
    "    by_nb.append(get_outcome(i))\n"
   ]
  },
  {
   "cell_type": "code",
   "execution_count": 289,
   "metadata": {},
   "outputs": [
    {
     "name": "stdout",
     "output_type": "stream",
     "text": [
      "79.87012987012987\n"
     ]
    }
   ],
   "source": [
    "by_dataset = y_test.to_list()\n",
    "correct = 0\n",
    "for i in range(len(by_nb)):\n",
    "    if by_nb[i]==by_dataset[i]:\n",
    "        correct = correct + 1\n",
    "\n",
    "print(correct/len(by_nb)*100)"
   ]
  },
  {
   "cell_type": "code",
   "execution_count": 290,
   "metadata": {},
   "outputs": [
    {
     "data": {
      "text/html": [
       "<div>\n",
       "<style scoped>\n",
       "    .dataframe tbody tr th:only-of-type {\n",
       "        vertical-align: middle;\n",
       "    }\n",
       "\n",
       "    .dataframe tbody tr th {\n",
       "        vertical-align: top;\n",
       "    }\n",
       "\n",
       "    .dataframe thead th {\n",
       "        text-align: right;\n",
       "    }\n",
       "</style>\n",
       "<table border=\"1\" class=\"dataframe\">\n",
       "  <thead>\n",
       "    <tr style=\"text-align: right;\">\n",
       "      <th></th>\n",
       "      <th>Glucose</th>\n",
       "      <th>BloodPressure</th>\n",
       "      <th>SkinThickness</th>\n",
       "      <th>Insulin</th>\n",
       "      <th>BMI</th>\n",
       "      <th>Age</th>\n",
       "      <th>Outcome</th>\n",
       "    </tr>\n",
       "  </thead>\n",
       "  <tbody>\n",
       "    <tr>\n",
       "      <th>511</th>\n",
       "      <td>139</td>\n",
       "      <td>62</td>\n",
       "      <td>17</td>\n",
       "      <td>210</td>\n",
       "      <td>22.1</td>\n",
       "      <td>21</td>\n",
       "      <td>0</td>\n",
       "    </tr>\n",
       "    <tr>\n",
       "      <th>478</th>\n",
       "      <td>126</td>\n",
       "      <td>74</td>\n",
       "      <td>38</td>\n",
       "      <td>75</td>\n",
       "      <td>25.9</td>\n",
       "      <td>39</td>\n",
       "      <td>0</td>\n",
       "    </tr>\n",
       "    <tr>\n",
       "      <th>13</th>\n",
       "      <td>189</td>\n",
       "      <td>60</td>\n",
       "      <td>23</td>\n",
       "      <td>846</td>\n",
       "      <td>30.1</td>\n",
       "      <td>59</td>\n",
       "      <td>1</td>\n",
       "    </tr>\n",
       "    <tr>\n",
       "      <th>9</th>\n",
       "      <td>125</td>\n",
       "      <td>96</td>\n",
       "      <td>0</td>\n",
       "      <td>0</td>\n",
       "      <td>0.0</td>\n",
       "      <td>54</td>\n",
       "      <td>1</td>\n",
       "    </tr>\n",
       "    <tr>\n",
       "      <th>23</th>\n",
       "      <td>119</td>\n",
       "      <td>80</td>\n",
       "      <td>35</td>\n",
       "      <td>0</td>\n",
       "      <td>29.0</td>\n",
       "      <td>29</td>\n",
       "      <td>1</td>\n",
       "    </tr>\n",
       "    <tr>\n",
       "      <th>...</th>\n",
       "      <td>...</td>\n",
       "      <td>...</td>\n",
       "      <td>...</td>\n",
       "      <td>...</td>\n",
       "      <td>...</td>\n",
       "      <td>...</td>\n",
       "      <td>...</td>\n",
       "    </tr>\n",
       "    <tr>\n",
       "      <th>588</th>\n",
       "      <td>176</td>\n",
       "      <td>86</td>\n",
       "      <td>27</td>\n",
       "      <td>156</td>\n",
       "      <td>33.3</td>\n",
       "      <td>52</td>\n",
       "      <td>1</td>\n",
       "    </tr>\n",
       "    <tr>\n",
       "      <th>529</th>\n",
       "      <td>111</td>\n",
       "      <td>65</td>\n",
       "      <td>0</td>\n",
       "      <td>0</td>\n",
       "      <td>24.6</td>\n",
       "      <td>31</td>\n",
       "      <td>0</td>\n",
       "    </tr>\n",
       "    <tr>\n",
       "      <th>369</th>\n",
       "      <td>133</td>\n",
       "      <td>102</td>\n",
       "      <td>28</td>\n",
       "      <td>140</td>\n",
       "      <td>32.8</td>\n",
       "      <td>45</td>\n",
       "      <td>1</td>\n",
       "    </tr>\n",
       "    <tr>\n",
       "      <th>437</th>\n",
       "      <td>147</td>\n",
       "      <td>75</td>\n",
       "      <td>0</td>\n",
       "      <td>0</td>\n",
       "      <td>29.9</td>\n",
       "      <td>28</td>\n",
       "      <td>0</td>\n",
       "    </tr>\n",
       "    <tr>\n",
       "      <th>434</th>\n",
       "      <td>90</td>\n",
       "      <td>68</td>\n",
       "      <td>8</td>\n",
       "      <td>0</td>\n",
       "      <td>24.5</td>\n",
       "      <td>36</td>\n",
       "      <td>0</td>\n",
       "    </tr>\n",
       "  </tbody>\n",
       "</table>\n",
       "<p>154 rows × 7 columns</p>\n",
       "</div>"
      ],
      "text/plain": [
       "     Glucose  BloodPressure  SkinThickness  Insulin   BMI  Age  Outcome\n",
       "511      139             62             17      210  22.1   21        0\n",
       "478      126             74             38       75  25.9   39        0\n",
       "13       189             60             23      846  30.1   59        1\n",
       "9        125             96              0        0   0.0   54        1\n",
       "23       119             80             35        0  29.0   29        1\n",
       "..       ...            ...            ...      ...   ...  ...      ...\n",
       "588      176             86             27      156  33.3   52        1\n",
       "529      111             65              0        0  24.6   31        0\n",
       "369      133            102             28      140  32.8   45        1\n",
       "437      147             75              0        0  29.9   28        0\n",
       "434       90             68              8        0  24.5   36        0\n",
       "\n",
       "[154 rows x 7 columns]"
      ]
     },
     "execution_count": 290,
     "metadata": {},
     "output_type": "execute_result"
    }
   ],
   "source": [
    "x_test"
   ]
  },
  {
   "cell_type": "code",
   "execution_count": 291,
   "metadata": {},
   "outputs": [
    {
     "name": "stdout",
     "output_type": "stream",
     "text": [
      "Enter values for the following columns:\n",
      "Glucose, BloodPressure, SkinThickness, Insulin, BMI, Age\n",
      "\n",
      "[111.0, 65.0, 0.0, 0.0, 24.6, 31.0]\n"
     ]
    },
    {
     "data": {
      "text/plain": [
       "0"
      ]
     },
     "execution_count": 291,
     "metadata": {},
     "output_type": "execute_result"
    }
   ],
   "source": [
    "print(\"Enter values for the following columns:\\n\" + \", \".join(columns) + \"\\n\")\n",
    "user_input  = input()\n",
    "user_input = user_input.split(' ')\n",
    "input_data = [float(i) for i in user_input]\n",
    "print(input_data)\n",
    "get_outcome(input_data)"
   ]
  },
  {
   "cell_type": "code",
   "execution_count": null,
   "metadata": {},
   "outputs": [],
   "source": []
  },
  {
   "cell_type": "code",
   "execution_count": null,
   "metadata": {},
   "outputs": [],
   "source": []
  },
  {
   "cell_type": "code",
   "execution_count": null,
   "metadata": {},
   "outputs": [],
   "source": []
  },
  {
   "cell_type": "code",
   "execution_count": null,
   "metadata": {},
   "outputs": [],
   "source": []
  },
  {
   "cell_type": "code",
   "execution_count": null,
   "metadata": {},
   "outputs": [],
   "source": []
  },
  {
   "cell_type": "code",
   "execution_count": null,
   "metadata": {},
   "outputs": [],
   "source": []
  },
  {
   "cell_type": "code",
   "execution_count": null,
   "metadata": {},
   "outputs": [],
   "source": []
  },
  {
   "cell_type": "code",
   "execution_count": 292,
   "metadata": {},
   "outputs": [
    {
     "data": {
      "text/plain": [
       "77.92207792207793"
      ]
     },
     "execution_count": 292,
     "metadata": {},
     "output_type": "execute_result"
    }
   ],
   "source": [
    "from sklearn.naive_bayes import GaussianNB\n",
    "from sklearn.metrics import accuracy_score\n",
    "\n",
    "clf = GaussianNB()\n",
    "\n",
    "x_tr, x_te, y_tr, y_te = train_test_split(diabetes.iloc[:,:6],diabetes['Outcome'],test_size=0.2)\n",
    "\n",
    "clf.fit(x_tr,y_tr)\n",
    "result = clf.predict(x_te)\n",
    "accuracy_score(y_te, result) *100"
   ]
  },
  {
   "cell_type": "code",
   "execution_count": null,
   "metadata": {},
   "outputs": [],
   "source": []
  }
 ],
 "metadata": {
  "interpreter": {
   "hash": "ac59ebe37160ed0dfa835113d9b8498d9f09ceb179beaac4002f036b9467c963"
  },
  "kernelspec": {
   "display_name": "Python 3.9.6 64-bit",
   "language": "python",
   "name": "python3"
  },
  "language_info": {
   "codemirror_mode": {
    "name": "ipython",
    "version": 3
   },
   "file_extension": ".py",
   "mimetype": "text/x-python",
   "name": "python",
   "nbconvert_exporter": "python",
   "pygments_lexer": "ipython3",
   "version": "3.9.6"
  },
  "orig_nbformat": 4
 },
 "nbformat": 4,
 "nbformat_minor": 2
}
