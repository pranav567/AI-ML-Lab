{
 "cells": [
  {
   "cell_type": "code",
   "execution_count": 14,
   "metadata": {},
   "outputs": [],
   "source": [
    "# dataset: https://www.kaggle.com/uciml/pima-indians-diabetes-database\n",
    "# github: https://github.com/pranav567/AI-ML-Lab/tree/master/experiment-4"
   ]
  },
  {
   "cell_type": "code",
   "execution_count": 15,
   "metadata": {},
   "outputs": [
    {
     "name": "stdout",
     "output_type": "stream",
     "text": [
      "     Glucose  BloodPressure  SkinThickness  Insulin   BMI  Age  Outcome\n",
      "0        148             72             35        0  33.6   50        1\n",
      "1         85             66             29        0  26.6   31        0\n",
      "2        183             64              0        0  23.3   32        1\n",
      "3         89             66             23       94  28.1   21        0\n",
      "4        137             40             35      168  43.1   33        1\n",
      "..       ...            ...            ...      ...   ...  ...      ...\n",
      "763      101             76             48      180  32.9   63        0\n",
      "764      122             70             27        0  36.8   27        0\n",
      "765      121             72             23      112  26.2   30        0\n",
      "766      126             60              0        0  30.1   47        1\n",
      "767       93             70             31        0  30.4   23        0\n",
      "\n",
      "[768 rows x 7 columns]\n"
     ]
    }
   ],
   "source": [
    "import pandas as pd\n",
    "import numpy as np\n",
    "\n",
    "diabetes = pd.read_csv('diabetes_dataset.csv')\n",
    "diabetes = diabetes.dropna()\n",
    "print(diabetes)"
   ]
  },
  {
   "cell_type": "code",
   "execution_count": 16,
   "metadata": {},
   "outputs": [],
   "source": [
    "from sklearn.model_selection import train_test_split\n",
    "\n",
    "x_train, x_test, y_train, y_test = train_test_split(diabetes,diabetes['Outcome'],test_size=0.2)\n"
   ]
  },
  {
   "cell_type": "code",
   "execution_count": 17,
   "metadata": {},
   "outputs": [
    {
     "name": "stdout",
     "output_type": "stream",
     "text": [
      "0.3583061889250814 0.6416938110749185\n"
     ]
    }
   ],
   "source": [
    "df = x_train.copy()\n",
    "diabetes_yes = df.where(df['Outcome']==1).dropna()\n",
    "diabetes_yes_prob = len(diabetes_yes)/len(df)\n",
    "diabetes_no = df.where(df['Outcome']==0).dropna()\n",
    "diabetes_no_prob = len(diabetes_no)/len(df)\n",
    "\n",
    "print(diabetes_yes_prob,diabetes_no_prob)"
   ]
  },
  {
   "cell_type": "code",
   "execution_count": 18,
   "metadata": {},
   "outputs": [
    {
     "name": "stdout",
     "output_type": "stream",
     "text": [
      "[['Glucose', {0.0: [0.0, 0.007614213197969543], 13.27: [0.0, 0.0], 26.54: [0.0, 0.0], 39.81: [0.0, 0.0], 53.08: [0.0, 0.015228426395939087], 66.35: [0.004545454545454545, 0.0583756345177665], 79.62: [0.02727272727272727, 0.1751269035532995], 92.89: [0.08181818181818182, 0.24111675126903553], 106.16: [0.1409090909090909, 0.17766497461928935], 119.43: [0.1590909090909091, 0.15228426395939088], 132.7: [0.1409090909090909, 0.08121827411167512], 145.97: [0.11818181818181818, 0.0532994923857868], 159.24: [0.11363636363636363, 0.015228426395939087], 172.51: [0.11818181818181818, 0.012690355329949238], 185.78: [0.09545454545454546, 0.01015228426395939]}, 13.27], ['BloodPressure', {0.0: [0.05909090909090909, 0.03553299492385787], 7.6: [0.0, 0.0], 15.2: [0.0, 0.0], 22.8: [0.004545454545454545, 0.0025380710659898475], 30.4: [0.0, 0.0], 38.0: [0.004545454545454545, 0.012690355329949238], 45.6: [0.02727272727272727, 0.050761421319796954], 53.2: [0.05, 0.1446700507614213], 60.8: [0.15454545454545454, 0.21573604060913706], 68.4: [0.22272727272727272, 0.20812182741116753], 76.0: [0.2409090909090909, 0.18781725888324874], 83.6: [0.18181818181818182, 0.10152284263959391], 91.2: [0.02727272727272727, 0.030456852791878174], 98.8: [0.013636363636363636, 0.005076142131979695], 106.4: [0.013636363636363636, 0.005076142131979695]}, 7.6], ['SkinThickness', {0.0: [0.31363636363636366, 0.26903553299492383], 6.6: [0.00909090909090909, 0.0583756345177665], 13.2: [0.05, 0.13451776649746192], 19.8: [0.10909090909090909, 0.14213197969543148], 26.4: [0.16818181818181818, 0.19543147208121828], 33.0: [0.18636363636363637, 0.1116751269035533], 39.6: [0.11363636363636363, 0.06598984771573604], 46.2: [0.03636363636363636, 0.017766497461928935], 52.8: [0.004545454545454545, 0.0025380710659898475], 59.4: [0.004545454545454545, 0.0025380710659898475], 66.0: [0.0, 0.0], 72.6: [0.0, 0.0], 79.2: [0.0, 0.0], 85.8: [0.0, 0.0], 92.4: [0.004545454545454545, 0.0]}, 6.6], ['Insulin', {0.0: [0.4909090909090909, 0.5761421319796954], 56.4: [0.07727272727272727, 0.20812182741116753], 112.8: [0.19090909090909092, 0.10152284263959391], 169.2: [0.10454545454545454, 0.06345177664974619], 225.6: [0.045454545454545456, 0.015228426395939087], 282.0: [0.031818181818181815, 0.015228426395939087], 338.4: [0.00909090909090909, 0.007614213197969543], 394.8: [0.0, 0.005076142131979695], 451.2: [0.02727272727272727, 0.0025380710659898475], 507.6: [0.00909090909090909, 0.0], 564.0: [0.00909090909090909, 0.0], 620.4: [0.0, 0.0], 676.8: [0.0, 0.0025380710659898475], 733.2: [0.0, 0.0025380710659898475], 789.6: [0.004545454545454545, 0.0]}, 56.4], ['BMI', {0.0: [0.0, 0.02030456852791878], 4.47: [0.0, 0.0], 8.94: [0.0, 0.0], 13.41: [0.0, 0.0], 17.88: [0.0, 0.08629441624365482], 22.35: [0.06818181818181818, 0.2131979695431472], 26.82: [0.21818181818181817, 0.23604060913705585], 31.29: [0.33181818181818185, 0.22081218274111675], 35.76: [0.19545454545454546, 0.14213197969543148], 40.23: [0.10909090909090909, 0.0532994923857868], 44.7: [0.04090909090909091, 0.02284263959390863], 49.17: [0.022727272727272728, 0.0025380710659898475], 53.64: [0.004545454545454545, 0.0025380710659898475], 58.11: [0.004545454545454545, 0.0], 62.58: [0.0, 0.0]}, 4.47], ['Age', {21.0: [0.10454545454545454, 0.3756345177664975], 25.0: [0.15, 0.233502538071066], 29.0: [0.15, 0.09137055837563451], 33.0: [0.10909090909090909, 0.03807106598984772], 37.0: [0.09090909090909091, 0.07868020304568528], 41.0: [0.12272727272727273, 0.0532994923857868], 45.0: [0.08181818181818182, 0.04314720812182741], 49.0: [0.08636363636363636, 0.017766497461928935], 53.0: [0.04090909090909091, 0.005076142131979695], 57.0: [0.03636363636363636, 0.02030456852791878], 61.0: [0.00909090909090909, 0.017766497461928935], 65.0: [0.013636363636363636, 0.017766497461928935], 69.0: [0.004545454545454545, 0.005076142131979695], 73.0: [0.0, 0.0], 77.0: [0.0, 0.0025380710659898475]}, 4.0]]\n"
     ]
    }
   ],
   "source": [
    "columns = df.iloc[:,:6].columns.to_list()\n",
    "classes = 15\n",
    "column_details = []\n",
    "for column_name in columns:\n",
    "    min_val = min(df[column_name].to_list())\n",
    "    max_val = max(df[column_name].to_list())\n",
    "    class_size = round((max_val-min_val)/classes , 2)\n",
    "\n",
    "    low_bounds = list(np.arange(min_val,max_val,class_size))\n",
    "    for i in range(len(low_bounds)):\n",
    "        low_bounds[i] = round(low_bounds[i],2)\n",
    "    x = low_bounds[-1]\n",
    "    low_bounds.append(round(x + class_size,2))\n",
    "    # print(low_bounds)\n",
    "    # mid_class = round((class_size/2) , 2)\n",
    "    dict = {}\n",
    "    # start_mid = mid_class\n",
    "    # df_temp = df[column_name]\n",
    "    # print(df_temp)\n",
    "    # print(len(diabetes_yes) , len(diabetes_no))\n",
    "\n",
    "    for i in range(classes):\n",
    "#         # print(start_mid)\n",
    "        low_bound = low_bounds[i]\n",
    "        upp_bound = low_bounds[i+1]\n",
    "\n",
    "        yes_count = diabetes_yes.where(diabetes_yes[column_name]>=low_bound).dropna()\n",
    "        if i<classes-1:\n",
    "            yes_count = yes_count.where(yes_count[column_name]<upp_bound).dropna()\n",
    "        else:\n",
    "            yes_count = yes_count.where(yes_count[column_name]<=upp_bound).dropna()\n",
    "\n",
    "        no_count = diabetes_no.where(diabetes_no[column_name]>=low_bound).dropna()\n",
    "        if i<classes-1:\n",
    "            no_count = no_count.where(no_count[column_name]<upp_bound).dropna()\n",
    "        else:\n",
    "            no_count = no_count.where(no_count[column_name]<=upp_bound).dropna()\n",
    "\n",
    "\n",
    "#         # print(len(yes_count)/len(diabetes_yes))\n",
    "#         # print(len(yes_count)/len(diabetes_yes) , len(no_count)/len(diabetes_no))\n",
    "\n",
    "        dict[low_bounds[i]] = [len(yes_count)/len(diabetes_yes) , len(no_count)/len(diabetes_no)]\n",
    "#         # print([low_bound,upp_bound])\n",
    "#         start = round((start_mid + class_size),2)\n",
    "\n",
    "    column_details.append([column_name, dict , class_size])\n",
    "print(column_details)"
   ]
  },
  {
   "cell_type": "code",
   "execution_count": 19,
   "metadata": {},
   "outputs": [],
   "source": [
    "def get_outcome(input_data):\n",
    "    probabilities = []\n",
    "\n",
    "    for i in range(6):\n",
    "        value = input_data[i]\n",
    "        prob_dict = column_details[i][1]\n",
    "        class_range = column_details[i][2]\n",
    "\n",
    "        key_list = list(prob_dict.keys())\n",
    "        \n",
    "        for key in key_list:\n",
    "            low = key\n",
    "            up = key+class_range\n",
    "\n",
    "            if key_list[-1] == key:\n",
    "                if value>=low and value <= up:\n",
    "                    probabilities.append(prob_dict[key])\n",
    "                    break\n",
    "            else:\n",
    "                if value>=low and value < up:\n",
    "                    probabilities.append(prob_dict[key])\n",
    "                    break\n",
    "\n",
    "    yes=1\n",
    "    no=1\n",
    "    for i in probabilities:\n",
    "        if i[0] == 0 and i[1]==0:\n",
    "            continue\n",
    "        yes=yes*i[0]\n",
    "        no=no*i[1]\n",
    "    \n",
    "    if yes==1 or no==1:\n",
    "        return 0\n",
    "\n",
    "    product = [yes*diabetes_yes_prob , no*diabetes_no_prob]\n",
    "    total = yes*diabetes_yes_prob + no*diabetes_no_prob\n",
    "\n",
    "    \n",
    "    outcome = [product[0]/total, product[1]/total]\n",
    "\n",
    "    if outcome[0] > outcome[1]:\n",
    "        return 1\n",
    "    else:\n",
    "        return 0"
   ]
  },
  {
   "cell_type": "code",
   "execution_count": 20,
   "metadata": {},
   "outputs": [],
   "source": [
    "test = x_test.iloc[:,:6].copy()\n",
    "test_set = []\n",
    "for i in range(154):\n",
    "    test_set.append(test.iloc[i].to_list())\n",
    "\n",
    "by_nb = []\n",
    "for i in test_set:\n",
    "    by_nb.append(get_outcome(i))\n"
   ]
  },
  {
   "cell_type": "code",
   "execution_count": 21,
   "metadata": {},
   "outputs": [
    {
     "name": "stdout",
     "output_type": "stream",
     "text": [
      "70.77922077922078\n"
     ]
    }
   ],
   "source": [
    "by_dataset = y_test.to_list()\n",
    "correct = 0\n",
    "for i in range(len(by_nb)):\n",
    "    if by_nb[i]==by_dataset[i]:\n",
    "        correct = correct + 1\n",
    "\n",
    "print(correct/len(by_nb)*100)"
   ]
  },
  {
   "cell_type": "code",
   "execution_count": 22,
   "metadata": {},
   "outputs": [
    {
     "data": {
      "text/html": [
       "<div>\n",
       "<style scoped>\n",
       "    .dataframe tbody tr th:only-of-type {\n",
       "        vertical-align: middle;\n",
       "    }\n",
       "\n",
       "    .dataframe tbody tr th {\n",
       "        vertical-align: top;\n",
       "    }\n",
       "\n",
       "    .dataframe thead th {\n",
       "        text-align: right;\n",
       "    }\n",
       "</style>\n",
       "<table border=\"1\" class=\"dataframe\">\n",
       "  <thead>\n",
       "    <tr style=\"text-align: right;\">\n",
       "      <th></th>\n",
       "      <th>Glucose</th>\n",
       "      <th>BloodPressure</th>\n",
       "      <th>SkinThickness</th>\n",
       "      <th>Insulin</th>\n",
       "      <th>BMI</th>\n",
       "      <th>Age</th>\n",
       "      <th>Outcome</th>\n",
       "    </tr>\n",
       "  </thead>\n",
       "  <tbody>\n",
       "    <tr>\n",
       "      <th>580</th>\n",
       "      <td>151</td>\n",
       "      <td>90</td>\n",
       "      <td>46</td>\n",
       "      <td>0</td>\n",
       "      <td>42.1</td>\n",
       "      <td>21</td>\n",
       "      <td>1</td>\n",
       "    </tr>\n",
       "    <tr>\n",
       "      <th>470</th>\n",
       "      <td>144</td>\n",
       "      <td>82</td>\n",
       "      <td>40</td>\n",
       "      <td>0</td>\n",
       "      <td>41.3</td>\n",
       "      <td>28</td>\n",
       "      <td>0</td>\n",
       "    </tr>\n",
       "    <tr>\n",
       "      <th>592</th>\n",
       "      <td>132</td>\n",
       "      <td>80</td>\n",
       "      <td>0</td>\n",
       "      <td>0</td>\n",
       "      <td>34.4</td>\n",
       "      <td>44</td>\n",
       "      <td>1</td>\n",
       "    </tr>\n",
       "    <tr>\n",
       "      <th>621</th>\n",
       "      <td>92</td>\n",
       "      <td>76</td>\n",
       "      <td>20</td>\n",
       "      <td>0</td>\n",
       "      <td>24.2</td>\n",
       "      <td>28</td>\n",
       "      <td>0</td>\n",
       "    </tr>\n",
       "    <tr>\n",
       "      <th>286</th>\n",
       "      <td>155</td>\n",
       "      <td>84</td>\n",
       "      <td>44</td>\n",
       "      <td>545</td>\n",
       "      <td>38.7</td>\n",
       "      <td>34</td>\n",
       "      <td>0</td>\n",
       "    </tr>\n",
       "    <tr>\n",
       "      <th>...</th>\n",
       "      <td>...</td>\n",
       "      <td>...</td>\n",
       "      <td>...</td>\n",
       "      <td>...</td>\n",
       "      <td>...</td>\n",
       "      <td>...</td>\n",
       "      <td>...</td>\n",
       "    </tr>\n",
       "    <tr>\n",
       "      <th>205</th>\n",
       "      <td>111</td>\n",
       "      <td>72</td>\n",
       "      <td>28</td>\n",
       "      <td>0</td>\n",
       "      <td>23.9</td>\n",
       "      <td>27</td>\n",
       "      <td>0</td>\n",
       "    </tr>\n",
       "    <tr>\n",
       "      <th>531</th>\n",
       "      <td>107</td>\n",
       "      <td>76</td>\n",
       "      <td>0</td>\n",
       "      <td>0</td>\n",
       "      <td>45.3</td>\n",
       "      <td>24</td>\n",
       "      <td>0</td>\n",
       "    </tr>\n",
       "    <tr>\n",
       "      <th>552</th>\n",
       "      <td>114</td>\n",
       "      <td>88</td>\n",
       "      <td>0</td>\n",
       "      <td>0</td>\n",
       "      <td>27.8</td>\n",
       "      <td>66</td>\n",
       "      <td>0</td>\n",
       "    </tr>\n",
       "    <tr>\n",
       "      <th>734</th>\n",
       "      <td>105</td>\n",
       "      <td>75</td>\n",
       "      <td>0</td>\n",
       "      <td>0</td>\n",
       "      <td>23.3</td>\n",
       "      <td>53</td>\n",
       "      <td>0</td>\n",
       "    </tr>\n",
       "    <tr>\n",
       "      <th>160</th>\n",
       "      <td>151</td>\n",
       "      <td>90</td>\n",
       "      <td>38</td>\n",
       "      <td>0</td>\n",
       "      <td>29.7</td>\n",
       "      <td>36</td>\n",
       "      <td>0</td>\n",
       "    </tr>\n",
       "  </tbody>\n",
       "</table>\n",
       "<p>154 rows × 7 columns</p>\n",
       "</div>"
      ],
      "text/plain": [
       "     Glucose  BloodPressure  SkinThickness  Insulin   BMI  Age  Outcome\n",
       "580      151             90             46        0  42.1   21        1\n",
       "470      144             82             40        0  41.3   28        0\n",
       "592      132             80              0        0  34.4   44        1\n",
       "621       92             76             20        0  24.2   28        0\n",
       "286      155             84             44      545  38.7   34        0\n",
       "..       ...            ...            ...      ...   ...  ...      ...\n",
       "205      111             72             28        0  23.9   27        0\n",
       "531      107             76              0        0  45.3   24        0\n",
       "552      114             88              0        0  27.8   66        0\n",
       "734      105             75              0        0  23.3   53        0\n",
       "160      151             90             38        0  29.7   36        0\n",
       "\n",
       "[154 rows x 7 columns]"
      ]
     },
     "execution_count": 22,
     "metadata": {},
     "output_type": "execute_result"
    }
   ],
   "source": [
    "x_test"
   ]
  },
  {
   "cell_type": "code",
   "execution_count": 24,
   "metadata": {},
   "outputs": [
    {
     "name": "stdout",
     "output_type": "stream",
     "text": [
      "Enter values for the following columns:\n",
      "Glucose, BloodPressure, SkinThickness, Insulin, BMI, Age\n",
      "\n",
      "[85.0, 95.0, 0.0, 0.0, 22.0, 20.0]\n"
     ]
    },
    {
     "data": {
      "text/plain": [
       "0"
      ]
     },
     "execution_count": 24,
     "metadata": {},
     "output_type": "execute_result"
    }
   ],
   "source": [
    "print(\"Enter values for the following columns:\\n\" + \", \".join(columns) + \"\\n\")\n",
    "user_input  = input()\n",
    "user_input = user_input.split(' ')\n",
    "input_data = [float(i) for i in user_input]\n",
    "print(input_data)\n",
    "get_outcome(input_data)"
   ]
  },
  {
   "cell_type": "code",
   "execution_count": null,
   "metadata": {},
   "outputs": [],
   "source": []
  },
  {
   "cell_type": "code",
   "execution_count": null,
   "metadata": {},
   "outputs": [],
   "source": []
  },
  {
   "cell_type": "code",
   "execution_count": null,
   "metadata": {},
   "outputs": [],
   "source": []
  },
  {
   "cell_type": "code",
   "execution_count": null,
   "metadata": {},
   "outputs": [],
   "source": []
  },
  {
   "cell_type": "code",
   "execution_count": null,
   "metadata": {},
   "outputs": [],
   "source": []
  },
  {
   "cell_type": "code",
   "execution_count": null,
   "metadata": {},
   "outputs": [],
   "source": []
  },
  {
   "cell_type": "code",
   "execution_count": null,
   "metadata": {},
   "outputs": [],
   "source": []
  },
  {
   "cell_type": "code",
   "execution_count": null,
   "metadata": {},
   "outputs": [
    {
     "data": {
      "text/plain": [
       "75.32467532467533"
      ]
     },
     "execution_count": 13,
     "metadata": {},
     "output_type": "execute_result"
    }
   ],
   "source": [
    "from sklearn.naive_bayes import GaussianNB\n",
    "from sklearn.metrics import accuracy_score\n",
    "\n",
    "clf = GaussianNB()\n",
    "\n",
    "x_tr, x_te, y_tr, y_te = train_test_split(diabetes.iloc[:,:6],diabetes['Outcome'],test_size=0.2)\n",
    "\n",
    "clf.fit(x_tr,y_tr)\n",
    "result = clf.predict(x_te)\n",
    "accuracy_score(y_te, result) *100"
   ]
  },
  {
   "cell_type": "code",
   "execution_count": null,
   "metadata": {},
   "outputs": [],
   "source": []
  }
 ],
 "metadata": {
  "interpreter": {
   "hash": "ac59ebe37160ed0dfa835113d9b8498d9f09ceb179beaac4002f036b9467c963"
  },
  "kernelspec": {
   "display_name": "Python 3.9.6 64-bit",
   "language": "python",
   "name": "python3"
  },
  "language_info": {
   "codemirror_mode": {
    "name": "ipython",
    "version": 3
   },
   "file_extension": ".py",
   "mimetype": "text/x-python",
   "name": "python",
   "nbconvert_exporter": "python",
   "pygments_lexer": "ipython3",
   "version": "3.9.6"
  },
  "orig_nbformat": 4
 },
 "nbformat": 4,
 "nbformat_minor": 2
}
